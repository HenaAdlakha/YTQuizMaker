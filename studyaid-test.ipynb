{
 "cells": [
  {
   "cell_type": "code",
   "execution_count": 141,
   "outputs": [],
   "source": [
    "import copy"
   ],
   "metadata": {
    "collapsed": false,
    "ExecuteTime": {
     "start_time": "2024-02-16T21:56:55.287854Z",
     "end_time": "2024-02-16T21:56:55.308591Z"
    }
   }
  },
  {
   "cell_type": "code",
   "execution_count": 142,
   "outputs": [],
   "source": [
    "from dotenv import load_dotenv\n",
    "import os"
   ],
   "metadata": {
    "collapsed": false,
    "ExecuteTime": {
     "start_time": "2024-02-16T21:56:55.295867Z",
     "end_time": "2024-02-16T21:56:55.308822Z"
    }
   }
  },
  {
   "cell_type": "code",
   "execution_count": 143,
   "outputs": [],
   "source": [
    "import json"
   ],
   "metadata": {
    "collapsed": false,
    "ExecuteTime": {
     "start_time": "2024-02-16T21:56:55.299495Z",
     "end_time": "2024-02-16T21:56:55.309590Z"
    }
   }
  },
  {
   "cell_type": "code",
   "execution_count": 144,
   "outputs": [],
   "source": [
    "from youtube_transcript_api import YouTubeTranscriptApi"
   ],
   "metadata": {
    "collapsed": false,
    "ExecuteTime": {
     "start_time": "2024-02-16T21:56:55.304236Z",
     "end_time": "2024-02-16T21:56:55.324317Z"
    }
   }
  },
  {
   "cell_type": "code",
   "execution_count": 145,
   "outputs": [],
   "source": [
    "srt = YouTubeTranscriptApi.get_transcript(\"slp96SPtBtA\")"
   ],
   "metadata": {
    "collapsed": false,
    "ExecuteTime": {
     "start_time": "2024-02-16T21:56:55.313390Z",
     "end_time": "2024-02-16T21:56:59.218774Z"
    }
   }
  },
  {
   "cell_type": "code",
   "execution_count": 146,
   "outputs": [
    {
     "data": {
      "text/plain": "['hi ever wished you could finish a book',\n 'in a matter of minutes and remember',\n 'everything intact well only robots can',\n 'do that but I can help you triple your',\n 'reading speed and retain facts in your',\n \"memory hey this is Dr man I'm a mind\",\n 'performance coach with more than 50,000',\n 'successful professionals and I can help',\n 'you finish reading at least one',\n 'influential non-fiction books in just',\n \"six days even if you're a procrastinator\",\n 'you feel sleepy while reading books it',\n \"doesn't matter the size are complexity\",\n \"of non-fiction book you read it doesn't\",\n 'matter whether you read too slow or even',\n 'if you have a difficulty to stay focused',\n \"while reading I'm going to help you\",\n 'learn this amazing technique inside my',\n 'six days read for Success where I can',\n 'help people unlock their robotic brain',\n 'to read and learn things with 3x speed',\n 'and make massive success in their career',\n \"and in life so don't wait anymore click\",\n 'the button below to join my six days',\n \"workshop I'll see you inside my master\",\n 'class thank you so',\n 'much']"
     },
     "execution_count": 146,
     "metadata": {},
     "output_type": "execute_result"
    }
   ],
   "source": [
    "[s['text'] for s in srt]"
   ],
   "metadata": {
    "collapsed": false,
    "ExecuteTime": {
     "start_time": "2024-02-16T21:56:59.221996Z",
     "end_time": "2024-02-16T21:56:59.224988Z"
    }
   }
  },
  {
   "cell_type": "code",
   "execution_count": 147,
   "outputs": [
    {
     "data": {
      "text/plain": "991"
     },
     "execution_count": 147,
     "metadata": {},
     "output_type": "execute_result"
    }
   ],
   "source": [
    "transcript_video = ' '.join([s['text'] for s in srt])\n",
    "transcript_video_split = transcript_video.split(' ')\n",
    "input_final = ' '.join(transcript_video_split[:4000])\n",
    "len(input_final)"
   ],
   "metadata": {
    "collapsed": false,
    "ExecuteTime": {
     "start_time": "2024-02-16T21:56:59.226674Z",
     "end_time": "2024-02-16T21:56:59.230103Z"
    }
   }
  },
  {
   "cell_type": "code",
   "execution_count": 148,
   "outputs": [],
   "source": [
    "messages = [ {\"role\": \"system\", \"content\": \"You are an academic test creator.\"} ]"
   ],
   "metadata": {
    "collapsed": false,
    "ExecuteTime": {
     "start_time": "2024-02-16T21:56:59.232280Z",
     "end_time": "2024-02-16T21:56:59.234134Z"
    }
   }
  },
  {
   "cell_type": "markdown",
   "source": [],
   "metadata": {
    "collapsed": false
   }
  },
  {
   "cell_type": "code",
   "execution_count": 149,
   "outputs": [],
   "source": [
    "from openai import OpenAI\n",
    "load_dotenv('openai_api_key.env')\n",
    "API_KEY = os.getenv('OPENAI_API_KEY')\n",
    "client = OpenAI(api_key=API_KEY)\n",
    "MAX_TOKENS = 4000\n",
    "\n",
    "completion = client.chat.completions.create(\n",
    "  model=\"gpt-3.5-turbo\",\n",
    "  messages=[\n",
    "    {\"role\": \"system\", \"content\": \"You are a teaching assistant, skilled in creating questions for testing student's knowledge on a particular subject.\"},\n",
    "    {\"role\": \"user\", \"content\": f\"Create a quiz with 10 questions using this data: {input_final}, put them in json format. They keys in that json should be 'questions' for the list of questions, and for each question, thee should be 'question', 'choices', 'correct_answer' as keys.\"}\n",
    "  ]\n",
    ")\n",
    "\n",
    "result = completion.choices[0].message"
   ],
   "metadata": {
    "collapsed": false,
    "ExecuteTime": {
     "start_time": "2024-02-16T21:56:59.237378Z",
     "end_time": "2024-02-16T21:57:19.186853Z"
    }
   }
  },
  {
   "cell_type": "code",
   "execution_count": 150,
   "outputs": [
    {
     "name": "stdout",
     "output_type": "stream",
     "text": [
      "{\n",
      "  \"questions\": [\n",
      "    {\n",
      "      \"question\": \"Who is the author of the book 'Six Days Read for Success'?\",\n",
      "      \"choices\": [\n",
      "        \"Dr. Man\",\n",
      "        \"Dr. Robot\",\n",
      "        \"Dr. Brain\",\n",
      "        \"Dr. Performance\"\n",
      "      ],\n",
      "      \"correct_answer\": \"Dr. Man\"\n",
      "    },\n",
      "    {\n",
      "      \"question\": \"How many successful professionals has Dr. Man helped?\",\n",
      "      \"choices\": [\n",
      "        \"500\",\n",
      "        \"5,000\",\n",
      "        \"50,000\",\n",
      "        \"500,000\"\n",
      "      ],\n",
      "      \"correct_answer\": \"50,000\"\n",
      "    },\n",
      "    {\n",
      "      \"question\": \"How long does it take to finish reading at least one influential non-fiction book using Dr. Man's technique?\",\n",
      "      \"choices\": [\n",
      "        \"One day\",\n",
      "        \"Two days\",\n",
      "        \"Three days\",\n",
      "        \"Six days\"\n",
      "      ],\n",
      "      \"correct_answer\": \"Six days\"\n",
      "    },\n",
      "    {\n",
      "      \"question\": \"Who can benefit from Dr. Man's technique of triple reading speed?\",\n",
      "      \"choices\": [\n",
      "        \"Only robots\",\n",
      "        \"Everyone\",\n",
      "        \"Non-fiction authors\",\n",
      "        \"Procrastinators\"\n",
      "      ],\n",
      "      \"correct_answer\": \"Everyone\"\n",
      "    },\n",
      "    {\n",
      "      \"question\": \"What is the goal of Dr. Man's workshop?\",\n",
      "      \"choices\": [\n",
      "        \"To learn how to sleep while reading\",\n",
      "        \"To read all books in one minute\",\n",
      "        \"To unlock the robotic brain\",\n",
      "        \"To become a non-fiction book critic\"\n",
      "      ],\n",
      "      \"correct_answer\": \"To unlock the robotic brain\"\n",
      "    },\n",
      "    {\n",
      "      \"question\": \"How long is Dr. Man's workshop?\",\n",
      "      \"choices\": [\n",
      "        \"One day\",\n",
      "        \"Three days\",\n",
      "        \"Six days\",\n",
      "        \"Ten days\"\n",
      "      ],\n",
      "      \"correct_answer\": \"Six days\"\n",
      "    },\n",
      "    {\n",
      "      \"question\": \"What type of books does Dr. Man's technique primarily focus on?\",\n",
      "      \"choices\": [\n",
      "        \"Fiction books\",\n",
      "        \"Non-fiction books\",\n",
      "        \"Comic books\",\n",
      "        \"Children's books\"\n",
      "      ],\n",
      "      \"correct_answer\": \"Non-fiction books\"\n",
      "    },\n",
      "    {\n",
      "      \"question\": \"What is the main benefit of Dr. Man's technique?\",\n",
      "      \"choices\": [\n",
      "        \"Triple reading speed\",\n",
      "        \"Lucid dreaming\",\n",
      "        \"Improved sleep quality\",\n",
      "        \"Creative writing skills\"\n",
      "      ],\n",
      "      \"correct_answer\": \"Triple reading speed\"\n",
      "    },\n",
      "    {\n",
      "      \"question\": \"What does Dr. Man claim his workshop can bring to people's lives?\",\n",
      "      \"choices\": [\n",
      "        \"Massive success\",\n",
      "        \"Improved eyesight\",\n",
      "        \"Telepathic abilities\",\n",
      "        \"Mind-reading skills\"\n",
      "      ],\n",
      "      \"correct_answer\": \"Massive success\"\n",
      "    },\n",
      "    {\n",
      "      \"question\": \"Where can people join Dr. Man's workshop?\",\n",
      "      \"choices\": [\n",
      "        \"Click the button below\",\n",
      "        \"Visit his website\",\n",
      "        \"Call his office\",\n",
      "        \"Enroll at a university\"\n",
      "      ],\n",
      "      \"correct_answer\": \"Click the button below\"\n",
      "    }\n",
      "  ]\n",
      "}\n"
     ]
    }
   ],
   "source": [
    "print(result.content)"
   ],
   "metadata": {
    "collapsed": false,
    "ExecuteTime": {
     "start_time": "2024-02-16T21:57:19.187444Z",
     "end_time": "2024-02-16T21:57:19.192713Z"
    }
   }
  },
  {
   "cell_type": "code",
   "execution_count": 151,
   "outputs": [
    {
     "data": {
      "text/plain": "{'questions': [{'question': \"Who is the author of the book 'Six Days Read for Success'?\",\n   'choices': ['Dr. Man', 'Dr. Robot', 'Dr. Brain', 'Dr. Performance'],\n   'correct_answer': 'Dr. Man'},\n  {'question': 'How many successful professionals has Dr. Man helped?',\n   'choices': ['500', '5,000', '50,000', '500,000'],\n   'correct_answer': '50,000'},\n  {'question': \"How long does it take to finish reading at least one influential non-fiction book using Dr. Man's technique?\",\n   'choices': ['One day', 'Two days', 'Three days', 'Six days'],\n   'correct_answer': 'Six days'},\n  {'question': \"Who can benefit from Dr. Man's technique of triple reading speed?\",\n   'choices': ['Only robots',\n    'Everyone',\n    'Non-fiction authors',\n    'Procrastinators'],\n   'correct_answer': 'Everyone'},\n  {'question': \"What is the goal of Dr. Man's workshop?\",\n   'choices': ['To learn how to sleep while reading',\n    'To read all books in one minute',\n    'To unlock the robotic brain',\n    'To become a non-fiction book critic'],\n   'correct_answer': 'To unlock the robotic brain'},\n  {'question': \"How long is Dr. Man's workshop?\",\n   'choices': ['One day', 'Three days', 'Six days', 'Ten days'],\n   'correct_answer': 'Six days'},\n  {'question': \"What type of books does Dr. Man's technique primarily focus on?\",\n   'choices': ['Fiction books',\n    'Non-fiction books',\n    'Comic books',\n    \"Children's books\"],\n   'correct_answer': 'Non-fiction books'},\n  {'question': \"What is the main benefit of Dr. Man's technique?\",\n   'choices': ['Triple reading speed',\n    'Lucid dreaming',\n    'Improved sleep quality',\n    'Creative writing skills'],\n   'correct_answer': 'Triple reading speed'},\n  {'question': \"What does Dr. Man claim his workshop can bring to people's lives?\",\n   'choices': ['Massive success',\n    'Improved eyesight',\n    'Telepathic abilities',\n    'Mind-reading skills'],\n   'correct_answer': 'Massive success'},\n  {'question': \"Where can people join Dr. Man's workshop?\",\n   'choices': ['Click the button below',\n    'Visit his website',\n    'Call his office',\n    'Enroll at a university'],\n   'correct_answer': 'Click the button below'}]}"
     },
     "execution_count": 151,
     "metadata": {},
     "output_type": "execute_result"
    }
   ],
   "source": [
    "result_json = json.loads(result.content)\n",
    "result_json"
   ],
   "metadata": {
    "collapsed": false,
    "ExecuteTime": {
     "start_time": "2024-02-16T21:57:19.193350Z",
     "end_time": "2024-02-16T21:57:19.198766Z"
    }
   }
  },
  {
   "cell_type": "code",
   "execution_count": 152,
   "outputs": [
    {
     "data": {
      "text/plain": "\"{k:v for k,v in result_json['questions'][1].items() if k in ['question', 'choices']}\""
     },
     "execution_count": 152,
     "metadata": {},
     "output_type": "execute_result"
    }
   ],
   "source": [
    "'''{k:v for k,v in result_json['questions'][1].items() if k in ['question', 'choices']}'''"
   ],
   "metadata": {
    "collapsed": false,
    "ExecuteTime": {
     "start_time": "2024-02-16T21:57:19.199208Z",
     "end_time": "2024-02-16T21:57:19.202787Z"
    }
   }
  },
  {
   "cell_type": "code",
   "execution_count": 153,
   "outputs": [
    {
     "data": {
      "text/plain": "{'questions': [{'question': \"Who is the author of the book 'Six Days Read for Success'?\",\n   'choices': ['Dr. Man', 'Dr. Robot', 'Dr. Brain', 'Dr. Performance']},\n  {'question': 'How many successful professionals has Dr. Man helped?',\n   'choices': ['500', '5,000', '50,000', '500,000']},\n  {'question': \"How long does it take to finish reading at least one influential non-fiction book using Dr. Man's technique?\",\n   'choices': ['One day', 'Two days', 'Three days', 'Six days']},\n  {'question': \"Who can benefit from Dr. Man's technique of triple reading speed?\",\n   'choices': ['Only robots',\n    'Everyone',\n    'Non-fiction authors',\n    'Procrastinators']},\n  {'question': \"What is the goal of Dr. Man's workshop?\",\n   'choices': ['To learn how to sleep while reading',\n    'To read all books in one minute',\n    'To unlock the robotic brain',\n    'To become a non-fiction book critic']},\n  {'question': \"How long is Dr. Man's workshop?\",\n   'choices': ['One day', 'Three days', 'Six days', 'Ten days']},\n  {'question': \"What type of books does Dr. Man's technique primarily focus on?\",\n   'choices': ['Fiction books',\n    'Non-fiction books',\n    'Comic books',\n    \"Children's books\"]},\n  {'question': \"What is the main benefit of Dr. Man's technique?\",\n   'choices': ['Triple reading speed',\n    'Lucid dreaming',\n    'Improved sleep quality',\n    'Creative writing skills']},\n  {'question': \"What does Dr. Man claim his workshop can bring to people's lives?\",\n   'choices': ['Massive success',\n    'Improved eyesight',\n    'Telepathic abilities',\n    'Mind-reading skills']},\n  {'question': \"Where can people join Dr. Man's workshop?\",\n   'choices': ['Click the button below',\n    'Visit his website',\n    'Call his office',\n    'Enroll at a university']}]}"
     },
     "execution_count": 153,
     "metadata": {},
     "output_type": "execute_result"
    }
   ],
   "source": [
    "questions_json = copy.deepcopy(result_json)\n",
    "\n",
    "for question_data in questions_json['questions']:\n",
    "  if 'correct_answer' in question_data:\n",
    "    question_data.pop('correct_answer')\n",
    "\n",
    "questions_json"
   ],
   "metadata": {
    "collapsed": false,
    "ExecuteTime": {
     "start_time": "2024-02-16T21:57:19.205949Z",
     "end_time": "2024-02-16T21:57:19.209873Z"
    }
   }
  },
  {
   "cell_type": "code",
   "execution_count": 154,
   "outputs": [
    {
     "data": {
      "text/plain": "{'questions': [{'question': \"Who is the author of the book 'Six Days Read for Success'?\",\n   'choices': ['Dr. Man', 'Dr. Robot', 'Dr. Brain', 'Dr. Performance'],\n   'correct_answer': 'Dr. Man'},\n  {'question': 'How many successful professionals has Dr. Man helped?',\n   'choices': ['500', '5,000', '50,000', '500,000'],\n   'correct_answer': '50,000'},\n  {'question': \"How long does it take to finish reading at least one influential non-fiction book using Dr. Man's technique?\",\n   'choices': ['One day', 'Two days', 'Three days', 'Six days'],\n   'correct_answer': 'Six days'},\n  {'question': \"Who can benefit from Dr. Man's technique of triple reading speed?\",\n   'choices': ['Only robots',\n    'Everyone',\n    'Non-fiction authors',\n    'Procrastinators'],\n   'correct_answer': 'Everyone'},\n  {'question': \"What is the goal of Dr. Man's workshop?\",\n   'choices': ['To learn how to sleep while reading',\n    'To read all books in one minute',\n    'To unlock the robotic brain',\n    'To become a non-fiction book critic'],\n   'correct_answer': 'To unlock the robotic brain'},\n  {'question': \"How long is Dr. Man's workshop?\",\n   'choices': ['One day', 'Three days', 'Six days', 'Ten days'],\n   'correct_answer': 'Six days'},\n  {'question': \"What type of books does Dr. Man's technique primarily focus on?\",\n   'choices': ['Fiction books',\n    'Non-fiction books',\n    'Comic books',\n    \"Children's books\"],\n   'correct_answer': 'Non-fiction books'},\n  {'question': \"What is the main benefit of Dr. Man's technique?\",\n   'choices': ['Triple reading speed',\n    'Lucid dreaming',\n    'Improved sleep quality',\n    'Creative writing skills'],\n   'correct_answer': 'Triple reading speed'},\n  {'question': \"What does Dr. Man claim his workshop can bring to people's lives?\",\n   'choices': ['Massive success',\n    'Improved eyesight',\n    'Telepathic abilities',\n    'Mind-reading skills'],\n   'correct_answer': 'Massive success'},\n  {'question': \"Where can people join Dr. Man's workshop?\",\n   'choices': ['Click the button below',\n    'Visit his website',\n    'Call his office',\n    'Enroll at a university'],\n   'correct_answer': 'Click the button below'}]}"
     },
     "execution_count": 154,
     "metadata": {},
     "output_type": "execute_result"
    }
   ],
   "source": [
    "result_json"
   ],
   "metadata": {
    "collapsed": false,
    "ExecuteTime": {
     "start_time": "2024-02-16T21:57:19.214799Z",
     "end_time": "2024-02-16T21:57:19.264313Z"
    }
   }
  },
  {
   "cell_type": "code",
   "execution_count": 154,
   "outputs": [],
   "source": [],
   "metadata": {
    "collapsed": false,
    "ExecuteTime": {
     "start_time": "2024-02-16T21:57:19.219693Z",
     "end_time": "2024-02-16T21:57:19.264528Z"
    }
   }
  },
  {
   "cell_type": "code",
   "execution_count": 155,
   "outputs": [],
   "source": [
    "with open(\"text_answers.txt\", \"w\") as myFile:\n",
    "  myFile.write(result.content)"
   ],
   "metadata": {
    "collapsed": false,
    "ExecuteTime": {
     "start_time": "2024-02-16T21:57:19.227277Z",
     "end_time": "2024-02-16T21:57:19.264593Z"
    }
   }
  }
 ],
 "metadata": {
  "kernelspec": {
   "display_name": "Python 3",
   "language": "python",
   "name": "python3"
  },
  "language_info": {
   "codemirror_mode": {
    "name": "ipython",
    "version": 2
   },
   "file_extension": ".py",
   "mimetype": "text/x-python",
   "name": "python",
   "nbconvert_exporter": "python",
   "pygments_lexer": "ipython2",
   "version": "2.7.6"
  }
 },
 "nbformat": 4,
 "nbformat_minor": 0
}
